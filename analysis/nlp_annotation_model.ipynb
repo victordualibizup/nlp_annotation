{
 "cells": [
  {
   "cell_type": "code",
   "execution_count": 1,
   "id": "6175074b",
   "metadata": {},
   "outputs": [
    {
     "name": "stderr",
     "output_type": "stream",
     "text": [
      "[nltk_data] Downloading package punkt to /home/victor-\n",
      "[nltk_data]     dualibi/nltk_data...\n",
      "[nltk_data]   Package punkt is already up-to-date!\n"
     ]
    }
   ],
   "source": [
    "import nltk\n",
    "from nltk.tokenize import word_tokenize\n",
    "nltk.download('punkt')\n",
    "\n",
    "import pandas as pd\n",
    "\n",
    "from sklearn import metrics\n",
    "from sklearn.feature_extraction.text import CountVectorizer, TfidfVectorizer\n",
    "from sklearn.model_selection import train_test_split\n",
    "from sklearn.linear_model import LogisticRegression\n",
    "from sklearn.pipeline import Pipeline\n",
    "\n",
    "from nlp_annotation import data_manager"
   ]
  },
  {
   "cell_type": "code",
   "execution_count": 2,
   "id": "ce70e853",
   "metadata": {},
   "outputs": [],
   "source": [
    "bucket = 'bella-insights-annotation'\n",
    "data_key = 'bella-dataset-mutant'\n",
    "files = ['caio.pereira.mutant.csv', 'kelly.silva.mutant.csv', 'valdete.machado.mutant.csv']"
   ]
  },
  {
   "cell_type": "code",
   "execution_count": 3,
   "id": "b43851b7",
   "metadata": {},
   "outputs": [],
   "source": [
    "dataframe_list = []\n",
    "\n",
    "for file in files:\n",
    "    data_location = 's3://{}/{}/{}'.format(bucket, data_key, file)\n",
    "    data_from_s3 = data_manager.create_dataframe_from_s3(bucket=bucket, key=data_key + \"/\" + file)\n",
    "    dataframe_list.append(data_from_s3)"
   ]
  },
  {
   "cell_type": "code",
   "execution_count": 4,
   "id": "1b06302a",
   "metadata": {},
   "outputs": [],
   "source": [
    "train_features = pd.concat(dataframe_list)\n",
    "train_features = train_features.drop_duplicates(subset=['data'])"
   ]
  },
  {
   "cell_type": "code",
   "execution_count": 5,
   "id": "027ee8f8",
   "metadata": {},
   "outputs": [
    {
     "data": {
      "text/plain": [
       "(400, 3)"
      ]
     },
     "execution_count": 5,
     "metadata": {},
     "output_type": "execute_result"
    }
   ],
   "source": [
    "train_features.shape"
   ]
  },
  {
   "cell_type": "code",
   "execution_count": 6,
   "id": "1904bc7e",
   "metadata": {},
   "outputs": [
    {
     "data": {
      "text/html": [
       "<div>\n",
       "<style scoped>\n",
       "    .dataframe tbody tr th:only-of-type {\n",
       "        vertical-align: middle;\n",
       "    }\n",
       "\n",
       "    .dataframe tbody tr th {\n",
       "        vertical-align: top;\n",
       "    }\n",
       "\n",
       "    .dataframe thead th {\n",
       "        text-align: right;\n",
       "    }\n",
       "</style>\n",
       "<table border=\"1\" class=\"dataframe\">\n",
       "  <thead>\n",
       "    <tr style=\"text-align: right;\">\n",
       "      <th></th>\n",
       "      <th>id</th>\n",
       "      <th>data</th>\n",
       "      <th>label</th>\n",
       "    </tr>\n",
       "  </thead>\n",
       "  <tbody>\n",
       "    <tr>\n",
       "      <th>0</th>\n",
       "      <td>2202</td>\n",
       "      <td>você recebeu pagamento com point</td>\n",
       "      <td>Renda</td>\n",
       "    </tr>\n",
       "    <tr>\n",
       "      <th>1</th>\n",
       "      <td>2203</td>\n",
       "      <td>b2w companhia digital</td>\n",
       "      <td>Compras / Loja de departamento</td>\n",
       "    </tr>\n",
       "    <tr>\n",
       "      <th>2</th>\n",
       "      <td>2204</td>\n",
       "      <td>recarga*recarga cel</td>\n",
       "      <td>Contas / Celular</td>\n",
       "    </tr>\n",
       "    <tr>\n",
       "      <th>3</th>\n",
       "      <td>2205</td>\n",
       "      <td>recarga oi</td>\n",
       "      <td>Contas / Celular</td>\n",
       "    </tr>\n",
       "    <tr>\n",
       "      <th>4</th>\n",
       "      <td>2206</td>\n",
       "      <td>você pagou o mercado crédito</td>\n",
       "      <td>Compras / Apps</td>\n",
       "    </tr>\n",
       "  </tbody>\n",
       "</table>\n",
       "</div>"
      ],
      "text/plain": [
       "     id                              data                           label\n",
       "0  2202  você recebeu pagamento com point                           Renda\n",
       "1  2203             b2w companhia digital  Compras / Loja de departamento\n",
       "2  2204               recarga*recarga cel                Contas / Celular\n",
       "3  2205                        recarga oi                Contas / Celular\n",
       "4  2206      você pagou o mercado crédito                  Compras / Apps"
      ]
     },
     "execution_count": 6,
     "metadata": {},
     "output_type": "execute_result"
    }
   ],
   "source": [
    "train_features.head()"
   ]
  },
  {
   "cell_type": "code",
   "execution_count": 7,
   "id": "00c7e8c5",
   "metadata": {},
   "outputs": [],
   "source": [
    "pipeline_list = [\n",
    "    (\"count_vectorizer\", CountVectorizer(tokenizer=word_tokenize, token_pattern=None, ngram_range=(1,4))),\n",
    "    (\"logistic_regressor\", LogisticRegression(solver='liblinear'))\n",
    "]\n",
    "\n",
    "model_pipeline = Pipeline(pipeline_list)\n"
   ]
  },
  {
   "cell_type": "code",
   "execution_count": 8,
   "id": "56af3c8b",
   "metadata": {},
   "outputs": [],
   "source": [
    "features = train_features[\"data\"]\n",
    "target = train_features[\"label\"]\n",
    "\n",
    "X_train, X_test, y_train, y_test = train_test_split(features, target, random_state=42, test_size=0.2,\n",
    "                                                    shuffle=True, stratify=None)"
   ]
  },
  {
   "cell_type": "code",
   "execution_count": 9,
   "id": "f29bbb9e",
   "metadata": {},
   "outputs": [
    {
     "data": {
      "text/plain": [
       "Pipeline(steps=[('count_vectorizer',\n",
       "                 CountVectorizer(ngram_range=(1, 4), token_pattern=None,\n",
       "                                 tokenizer=<function word_tokenize at 0x7f767b0ba940>)),\n",
       "                ('logistic_regressor', LogisticRegression(solver='liblinear'))])"
      ]
     },
     "execution_count": 9,
     "metadata": {},
     "output_type": "execute_result"
    }
   ],
   "source": [
    "model_pipeline.fit(X_train, y_train)"
   ]
  },
  {
   "cell_type": "code",
   "execution_count": 10,
   "id": "756f6847",
   "metadata": {},
   "outputs": [],
   "source": [
    "train_y_pred = model_pipeline.predict(X_train)\n",
    "test_y_pred = model_pipeline.predict(X_test)"
   ]
  },
  {
   "cell_type": "code",
   "execution_count": 11,
   "id": "d9acf6d5",
   "metadata": {},
   "outputs": [],
   "source": [
    "def calculate_accuracy(*, real_values, predicted_values):\n",
    "    real_vector = real_values.copy()\n",
    "    counter = 0\n",
    "    vector_size = len(real_vector)\n",
    "    \n",
    "    for i, classes in enumerate(real_vector):\n",
    "        if classes == predicted_values[i]:\n",
    "            counter += 1\n",
    "    \n",
    "    accuracy = round(counter / vector_size, 2)\n",
    "    \n",
    "    return accuracy\n",
    "    "
   ]
  },
  {
   "cell_type": "code",
   "execution_count": 12,
   "id": "e0d422ed",
   "metadata": {
    "scrolled": true
   },
   "outputs": [
    {
     "data": {
      "text/plain": [
       "0.88"
      ]
     },
     "execution_count": 12,
     "metadata": {},
     "output_type": "execute_result"
    }
   ],
   "source": [
    "calculate_accuracy(real_values=y_train, predicted_values=train_y_pred)"
   ]
  },
  {
   "cell_type": "code",
   "execution_count": 13,
   "id": "7b034868",
   "metadata": {},
   "outputs": [
    {
     "data": {
      "text/plain": [
       "0.31"
      ]
     },
     "execution_count": 13,
     "metadata": {},
     "output_type": "execute_result"
    }
   ],
   "source": [
    "calculate_accuracy(real_values=y_test, predicted_values=test_y_pred)"
   ]
  },
  {
   "cell_type": "code",
   "execution_count": null,
   "id": "79620994",
   "metadata": {},
   "outputs": [],
   "source": []
  },
  {
   "cell_type": "code",
   "execution_count": null,
   "id": "f68b9aee",
   "metadata": {},
   "outputs": [],
   "source": []
  },
  {
   "cell_type": "code",
   "execution_count": null,
   "id": "4ba33bc4",
   "metadata": {},
   "outputs": [],
   "source": []
  },
  {
   "cell_type": "code",
   "execution_count": null,
   "id": "cf1256a0",
   "metadata": {},
   "outputs": [],
   "source": []
  },
  {
   "cell_type": "code",
   "execution_count": null,
   "id": "80e9024a",
   "metadata": {},
   "outputs": [],
   "source": []
  },
  {
   "cell_type": "code",
   "execution_count": 18,
   "id": "3d80c348",
   "metadata": {},
   "outputs": [],
   "source": [
    "from nlp_annotation import modelling, pipeline"
   ]
  },
  {
   "cell_type": "code",
   "execution_count": 19,
   "id": "d991e31a",
   "metadata": {},
   "outputs": [
    {
     "data": {
      "text/plain": [
       "Pipeline(steps=[('count_vectorizer',\n",
       "                 CountVectorizer(ngram_range=['1', '4'], token_pattern='None',\n",
       "                                 tokenizer=<function word_tokenize at 0x7f767b0ba940>)),\n",
       "                ('logistic_regressor', LogisticRegression(solver='liblinear'))])"
      ]
     },
     "execution_count": 19,
     "metadata": {},
     "output_type": "execute_result"
    }
   ],
   "source": [
    "pipeline.model_pipeline"
   ]
  },
  {
   "cell_type": "code",
   "execution_count": 20,
   "id": "16d35e96",
   "metadata": {
    "scrolled": true
   },
   "outputs": [
    {
     "data": {
      "text/plain": [
       "Pipeline(steps=[('count_vectorizer',\n",
       "                 CountVectorizer(ngram_range=(1, 4), token_pattern=None,\n",
       "                                 tokenizer=<function word_tokenize at 0x7f767b0ba940>)),\n",
       "                ('logistic_regressor', LogisticRegression(solver='liblinear'))])"
      ]
     },
     "execution_count": 20,
     "metadata": {},
     "output_type": "execute_result"
    }
   ],
   "source": [
    "model_pipeline"
   ]
  },
  {
   "cell_type": "code",
   "execution_count": null,
   "id": "7b05026e",
   "metadata": {},
   "outputs": [],
   "source": []
  }
 ],
 "metadata": {
  "kernelspec": {
   "display_name": "nlp_annotation",
   "language": "python",
   "name": "nlp_annotation"
  },
  "language_info": {
   "codemirror_mode": {
    "name": "ipython",
    "version": 3
   },
   "file_extension": ".py",
   "mimetype": "text/x-python",
   "name": "python",
   "nbconvert_exporter": "python",
   "pygments_lexer": "ipython3",
   "version": "3.8.10"
  }
 },
 "nbformat": 4,
 "nbformat_minor": 5
}
